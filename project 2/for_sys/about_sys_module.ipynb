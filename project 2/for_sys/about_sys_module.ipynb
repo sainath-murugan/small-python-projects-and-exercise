{
 "metadata": {
  "language_info": {
   "codemirror_mode": {
    "name": "ipython",
    "version": 3
   },
   "file_extension": ".py",
   "mimetype": "text/x-python",
   "name": "python",
   "nbconvert_exporter": "python",
   "pygments_lexer": "ipython3",
   "version": "3.7.3-final"
  },
  "orig_nbformat": 2,
  "kernelspec": {
   "name": "python3",
   "display_name": "Python 3.7.3 32-bit",
   "metadata": {
    "interpreter": {
     "hash": "fc448ef6dae8a05a350cc5fc0870146d67a872f0b4ea0d6dc544f8addbb45ad4"
    }
   }
  }
 },
 "nbformat": 4,
 "nbformat_minor": 2,
 "cells": [
  {
   "source": [
    "# hello to mini tutorial about sys library in python"
   ],
   "cell_type": "markdown",
   "metadata": {}
  },
  {
   "source": [
    "# when we create a module in a directory, it is easy to import the  file into other file of the same directory. but if the module is in the other directory it is difficult to import and shows error.so lets solve it"
   ],
   "cell_type": "markdown",
   "metadata": {}
  },
  {
   "cell_type": "code",
   "execution_count": 1,
   "metadata": {},
   "outputs": [
    {
     "output_type": "stream",
     "name": "stdout",
     "text": [
      "c:\\Users\\Anuradha\\vs code\\project 2\\for_sys\nc:\\Users\\Anuradha\\.vscode\\extensions\\ms-toolsai.jupyter-2020.12.414227025\\pythonFiles\\vscode_datascience_helpers\\..\\.does-not-exist\nc:\\Users\\Anuradha\\.vscode\\extensions\\ms-toolsai.jupyter-2020.12.414227025\\pythonFiles\nc:\\Users\\Anuradha\\.vscode\\extensions\\ms-toolsai.jupyter-2020.12.414227025\\pythonFiles\\lib\\python\nC:\\Users\\Anuradha\\AppData\\Local\\Programs\\Python\\Python37-32\\python37.zip\nC:\\Users\\Anuradha\\AppData\\Local\\Programs\\Python\\Python37-32\\DLLs\nC:\\Users\\Anuradha\\AppData\\Local\\Programs\\Python\\Python37-32\\lib\nC:\\Users\\Anuradha\\AppData\\Local\\Programs\\Python\\Python37-32\n\nC:\\Users\\Anuradha\\AppData\\Roaming\\Python\\Python37\\site-packages\nC:\\Users\\Anuradha\\AppData\\Roaming\\Python\\Python37\\site-packages\\win32\nC:\\Users\\Anuradha\\AppData\\Roaming\\Python\\Python37\\site-packages\\win32\\lib\nC:\\Users\\Anuradha\\AppData\\Roaming\\Python\\Python37\\site-packages\\Pythonwin\nC:\\Users\\Anuradha\\AppData\\Local\\Programs\\Python\\Python37-32\\lib\\site-packages\nC:\\Users\\Anuradha\\AppData\\Roaming\\Python\\Python37\\site-packages\\IPython\\extensions\nC:\\Users\\Anuradha\\.ipython\n"
     ]
    }
   ],
   "source": [
    "import sys #provides function to manipulate python run time\n",
    "for i in sys.path:\n",
    "    print(i)"
   ]
  },
  {
   "source": [
    "# the above paths can be accessed by the current module, but if we try to access the outer directory's module it will show error"
   ],
   "cell_type": "markdown",
   "metadata": {}
  },
  {
   "cell_type": "code",
   "execution_count": 2,
   "metadata": {},
   "outputs": [
    {
     "output_type": "error",
     "ename": "ModuleNotFoundError",
     "evalue": "No module named 'outer'",
     "traceback": [
      "\u001b[1;31m---------------------------------------------------------------------------\u001b[0m",
      "\u001b[1;31mModuleNotFoundError\u001b[0m                       Traceback (most recent call last)",
      "\u001b[1;32m<ipython-input-2-364370619050>\u001b[0m in \u001b[0;36m<module>\u001b[1;34m\u001b[0m\n\u001b[1;32m----> 1\u001b[1;33m \u001b[1;32mimport\u001b[0m \u001b[0mouter\u001b[0m\u001b[1;33m\u001b[0m\u001b[1;33m\u001b[0m\u001b[0m\n\u001b[0m",
      "\u001b[1;31mModuleNotFoundError\u001b[0m: No module named 'outer'"
     ]
    }
   ],
   "source": [
    "import outer"
   ]
  },
  {
   "source": [
    "# it shows module not found, so lets fix it.. the outer module was in the path named c:\\\\Users\\\\Anuradha\\\\vs code\\\\project 2. if you notice that in the obove output the current module can not access this path -->  c:\\\\Users\\\\Anuradha\\\\vs code\\\\project 2. so we want append the path in our current module. lets do it"
   ],
   "cell_type": "markdown",
   "metadata": {}
  },
  {
   "cell_type": "code",
   "execution_count": 3,
   "metadata": {},
   "outputs": [
    {
     "output_type": "stream",
     "name": "stdout",
     "text": [
      "outer module is accessed\n"
     ]
    },
    {
     "output_type": "execute_result",
     "data": {
      "text/plain": [
       "<outer.f at 0x592cb30>"
      ]
     },
     "metadata": {},
     "execution_count": 3
    }
   ],
   "source": [
    "import sys\n",
    "sys.path.append(\"c:\\\\Users\\\\Anuradha\\\\vs code\\\\project 2\")\n",
    "import outer\n",
    "outer.d1"
   ]
  },
  {
   "source": [
    "# you can see that the module in the outer directory is accessed.. by appending the address in current directory.Now if you again print paths in current directory you can find the path(\"c:\\\\Users\\\\Anuradha\\\\vs code\\\\project 2\") is appended. so lets print it"
   ],
   "cell_type": "markdown",
   "metadata": {}
  },
  {
   "cell_type": "code",
   "execution_count": 4,
   "metadata": {},
   "outputs": [
    {
     "output_type": "stream",
     "name": "stdout",
     "text": [
      "c:\\Users\\Anuradha\\vs code\\project 2\\for_sys\nc:\\Users\\Anuradha\\.vscode\\extensions\\ms-toolsai.jupyter-2020.12.414227025\\pythonFiles\\vscode_datascience_helpers\\..\\.does-not-exist\nc:\\Users\\Anuradha\\.vscode\\extensions\\ms-toolsai.jupyter-2020.12.414227025\\pythonFiles\nc:\\Users\\Anuradha\\.vscode\\extensions\\ms-toolsai.jupyter-2020.12.414227025\\pythonFiles\\lib\\python\nC:\\Users\\Anuradha\\AppData\\Local\\Programs\\Python\\Python37-32\\python37.zip\nC:\\Users\\Anuradha\\AppData\\Local\\Programs\\Python\\Python37-32\\DLLs\nC:\\Users\\Anuradha\\AppData\\Local\\Programs\\Python\\Python37-32\\lib\nC:\\Users\\Anuradha\\AppData\\Local\\Programs\\Python\\Python37-32\n\nC:\\Users\\Anuradha\\AppData\\Roaming\\Python\\Python37\\site-packages\nC:\\Users\\Anuradha\\AppData\\Roaming\\Python\\Python37\\site-packages\\win32\nC:\\Users\\Anuradha\\AppData\\Roaming\\Python\\Python37\\site-packages\\win32\\lib\nC:\\Users\\Anuradha\\AppData\\Roaming\\Python\\Python37\\site-packages\\Pythonwin\nC:\\Users\\Anuradha\\AppData\\Local\\Programs\\Python\\Python37-32\\lib\\site-packages\nC:\\Users\\Anuradha\\AppData\\Roaming\\Python\\Python37\\site-packages\\IPython\\extensions\nC:\\Users\\Anuradha\\.ipython\nc:\\Users\\Anuradha\\vs code\\project 2\n"
     ]
    }
   ],
   "source": [
    "for i in sys.path:\n",
    "    print(i)"
   ]
  },
  {
   "source": [
    "# in the above output you can see(\"c:\\\\Users\\\\Anuradha\\\\vs code\\\\project 2\") is appended in current directory.....so that all"
   ],
   "cell_type": "markdown",
   "metadata": {}
  }
 ]
}